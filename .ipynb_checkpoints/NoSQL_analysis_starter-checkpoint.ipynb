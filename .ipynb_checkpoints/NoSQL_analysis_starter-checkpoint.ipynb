{
 "cells": [
  {
   "cell_type": "markdown",
   "id": "7275fb10",
   "metadata": {},
   "source": [
    "# Eat Safe, Love"
   ]
  },
  {
   "cell_type": "markdown",
   "id": "b4175171",
   "metadata": {},
   "source": [
    "## Notebook Set Up"
   ]
  },
  {
   "cell_type": "code",
   "execution_count": 1,
   "id": "c5102a86",
   "metadata": {},
   "outputs": [],
   "source": [
    "# Import dependencies\n",
    "import pandas as pd\n",
    "from pymongo import MongoClient\n",
    "from pprint import pprint"
   ]
  },
  {
   "cell_type": "code",
   "execution_count": 2,
   "id": "4362a952",
   "metadata": {},
   "outputs": [],
   "source": [
    "# Create an instance of MongoClient\n",
    "mongo = MongoClient(port=27017)"
   ]
  },
  {
   "cell_type": "code",
   "execution_count": 3,
   "id": "93861796",
   "metadata": {},
   "outputs": [
    {
     "data": {
      "text/plain": [
       "Database(MongoClient(host=['localhost:27017'], document_class=dict, tz_aware=False, connect=True), 'uk_food')"
      ]
     },
     "execution_count": 3,
     "metadata": {},
     "output_type": "execute_result"
    }
   ],
   "source": [
    "# assign the uk_food database to a variable name\n",
    "food_db = mongo['uk_food']\n",
    "food_db"
   ]
  },
  {
   "cell_type": "code",
   "execution_count": 4,
   "id": "3804b1d8",
   "metadata": {},
   "outputs": [
    {
     "name": "stdout",
     "output_type": "stream",
     "text": [
      "['establishments']\n"
     ]
    }
   ],
   "source": [
    "# review the collections in our database\n",
    "print(food_db.list_collection_names())"
   ]
  },
  {
   "cell_type": "code",
   "execution_count": 5,
   "id": "5f7fbcc3",
   "metadata": {},
   "outputs": [],
   "source": [
    "# assign the collection to a variable\n",
    "establishments = food_db['establishments']"
   ]
  },
  {
   "cell_type": "markdown",
   "id": "86aba2bc",
   "metadata": {},
   "source": [
    "## Part 3: Exploratory Analysis\n",
    "Unless otherwise stated, for each question: \n",
    "* Use `count_documents` to display the number of documents contained in the result.\n",
    "* Display the first document in the results using `pprint`.\n",
    "* Convert the result to a Pandas DataFrame, print the number of rows in the DataFrame, and display the first 10 rows."
   ]
  },
  {
   "cell_type": "markdown",
   "id": "549c7013",
   "metadata": {},
   "source": [
    "### 1. Which establishments have a hygiene score equal to 20?"
   ]
  },
  {
   "cell_type": "code",
   "execution_count": 6,
   "id": "e5ba8f70",
   "metadata": {},
   "outputs": [
    {
     "name": "stdout",
     "output_type": "stream",
     "text": [
      "The establishments collection contains 39783 documents\n",
      "<pymongo.cursor.Cursor object at 0x000001E118B08B88>\n"
     ]
    }
   ],
   "source": [
    "# Find the establishments with a hygiene score of 20\n",
    "query = {'scores.hygiene': 20}\n",
    "fields = {'BusinessName': 1,'scores.hygiene': 1, '_id':0}\n",
    "\n",
    "# Capture the results to a variable\n",
    "results = establishments.find(query)\n",
    "# for i in range(10):\n",
    "#     pprint(results[i])\n",
    "# Use count_documents to display the number of documents in the result\n",
    "document_count = establishments.count_documents({})\n",
    "print(f'The establishments collection contains {document_count} documents')\n",
    "\n",
    "# Display the first document in the results using pprint\n",
    "pprint(results[0:1])\n",
    "\n",
    "# review a document in the establishments collection\n",
    "#pprint(food_db.establishments.find_one())"
   ]
  },
  {
   "cell_type": "code",
   "execution_count": 7,
   "id": "3dc24851",
   "metadata": {},
   "outputs": [
    {
     "name": "stdout",
     "output_type": "stream",
     "text": [
      "Rows in DataFrame:  0\n"
     ]
    },
    {
     "data": {
      "text/html": [
       "<div>\n",
       "<style scoped>\n",
       "    .dataframe tbody tr th:only-of-type {\n",
       "        vertical-align: middle;\n",
       "    }\n",
       "\n",
       "    .dataframe tbody tr th {\n",
       "        vertical-align: top;\n",
       "    }\n",
       "\n",
       "    .dataframe thead th {\n",
       "        text-align: right;\n",
       "    }\n",
       "</style>\n",
       "<table border=\"1\" class=\"dataframe\">\n",
       "  <thead>\n",
       "    <tr style=\"text-align: right;\">\n",
       "      <th></th>\n",
       "    </tr>\n",
       "  </thead>\n",
       "  <tbody>\n",
       "  </tbody>\n",
       "</table>\n",
       "</div>"
      ],
      "text/plain": [
       "Empty DataFrame\n",
       "Columns: []\n",
       "Index: []"
      ]
     },
     "execution_count": 7,
     "metadata": {},
     "output_type": "execute_result"
    }
   ],
   "source": [
    "# Convert the result to a Pandas DataFrame\n",
    "result_df = pd.DataFrame(results)\n",
    "# Display the number of rows in the DataFrame\n",
    "print(\"Rows in DataFrame: \", len(result_df))\n",
    "# Display the first 10 rows of the DataFrame\n",
    "result_df.head(10)"
   ]
  },
  {
   "cell_type": "markdown",
   "id": "b99c983c",
   "metadata": {},
   "source": [
    "### 2. Which establishments in London have a `RatingValue` greater than or equal to 4?"
   ]
  },
  {
   "cell_type": "code",
   "execution_count": 8,
   "id": "fd583653",
   "metadata": {},
   "outputs": [
    {
     "ename": "SyntaxError",
     "evalue": "invalid syntax (1628751648.py, line 7)",
     "output_type": "error",
     "traceback": [
      "\u001b[1;36m  File \u001b[1;32m\"C:\\Users\\eslar\\AppData\\Local\\Temp\\ipykernel_2640\\1628751648.py\"\u001b[1;36m, line \u001b[1;32m7\u001b[0m\n\u001b[1;33m    document_count2 = establishments.count_documents({query2})\u001b[0m\n\u001b[1;37m                  ^\u001b[0m\n\u001b[1;31mSyntaxError\u001b[0m\u001b[1;31m:\u001b[0m invalid syntax\n"
     ]
    }
   ],
   "source": [
    "# Find the establishments with London as the Local Authority and has a RatingValue greater than or equal to 4.\n",
    "query2 = {{'LocalAuthorityName': 'London'},{'RatingValue': {'$gte': 4}}\n",
    "# fields = {'BusinessName': 1,'LocalAuthorityName': 1, 'RatingValue': 1, '_id':0}\n",
    "# results = establishments.find(query, fields)\n",
    "\n",
    "# Use count_documents to display the number of documents in the result\n",
    "document_count2 = establishments.count_documents({query2})\n",
    "print(f'The establishments collection contains {document_count} documents')\n",
    "\n",
    "# Display the first document in the results using pprint\n",
    "pprint(results[0:1])"
   ]
  },
  {
   "cell_type": "code",
   "execution_count": null,
   "id": "c74e5228",
   "metadata": {},
   "outputs": [],
   "source": [
    "# Convert the result to a Pandas DataFrame\n",
    "result_df = pd.DataFrame(results)\n",
    "# Display the number of rows in the DataFrame\n",
    "print(\"Rows in DataFrame: \", len(result_df))\n",
    "# Display the first 10 rows of the DataFrame\n",
    "result_df.head(10)"
   ]
  },
  {
   "cell_type": "markdown",
   "id": "e5be2954",
   "metadata": {},
   "source": [
    "### 3. What are the top 5 establishments with a `RatingValue` rating value of '5', sorted by lowest hygiene score, nearest to the new restaurant added, \"Penang Flavours\"?"
   ]
  },
  {
   "cell_type": "code",
   "execution_count": 17,
   "id": "bc0bf81e",
   "metadata": {},
   "outputs": [
    {
     "data": {
      "text/plain": [
       "{'geocode': {'longitude': 0.08384}}"
      ]
     },
     "execution_count": 17,
     "metadata": {},
     "output_type": "execute_result"
    }
   ],
   "source": [
    "# Determine the latitude and longitude of Penang Flavours\n",
    "#food_db.establishments.find_one({\"BusinessName\":'Penang Flavours', 'geocode.longitude'})\n",
    "lon = food_db.establishments.find_one({'BusinessName':'Penang Flavours'}, {'geocode.longitude':1, '_id':0})\n",
    "lon = food_db.establishments.find_one({'BusinessName':'Penang Flavours'}, {'geocode' : {'longitude'}}:1, '_id':0})\n",
    "lon\n",
    "#lon\n",
    "#lon = food_db.establishments.find_one()[query3]\n",
    "# Penang_longitude = establishments.find_one()({'BusinessName':'Penang Flavours'}, {'geocode.longitude'})\n",
    "# Penang_latitude = establishments.find_one()({'BusinessName':'Penang Flavours'}, {'geocode.latitude'})\n",
    "# Penang_longitude, Penang_latitude"
   ]
  },
  {
   "cell_type": "code",
   "execution_count": null,
   "id": "ffea6132",
   "metadata": {},
   "outputs": [],
   "source": [
    "# Search within 0.01 degree on either side of the latitude and longitude.\n",
    "# Rating value must equal 5\n",
    "# Sort by hygiene score\n",
    "\n",
    "degree_search = 0.01\n",
    "latitude = \n",
    "longitude = \n",
    "\n",
    "query3 = \n",
    "sort =  \n",
    "\n",
    "# Print the results\n"
   ]
  },
  {
   "cell_type": "code",
   "execution_count": null,
   "id": "7a73ebe8",
   "metadata": {},
   "outputs": [],
   "source": [
    "# Convert result to Pandas DataFrame\n",
    "result_df = pd.DataFrame(results)\n",
    "result_df.head(5)"
   ]
  },
  {
   "cell_type": "markdown",
   "id": "4b2be1d3",
   "metadata": {},
   "source": [
    "### 4. How many establishments in each Local Authority area have a hygiene score of 0?"
   ]
  },
  {
   "cell_type": "code",
   "execution_count": null,
   "id": "f7d82d94",
   "metadata": {},
   "outputs": [],
   "source": [
    "# Create a pipeline that: \n",
    "# 1. Matches establishments with a hygiene score of 0\n",
    "match_query = {'scores.hygiene': 20}\n",
    "\n",
    "# 2. Groups the matches by Local Authority\n",
    "group_query = {'$group': {'_id': {\"country\": \"$country\",\n",
    "                                  \"classification\": \"$classification\"}, \n",
    "                          'count': { '$sum': 1 }\n",
    "                         }\n",
    "              }\n",
    "\n",
    "# 3. Sorts the matches from highest to lowest\n",
    "sort_values = {'$sort': { '_id.country': 1, 'count': -1 }}\n",
    "\n",
    "# Print the number of documents in the result\n",
    "print(\"Number of rows in result: \", len(results))\n",
    "\n",
    "# Print the first 10 results\n",
    "pprint(results[0:10])"
   ]
  },
  {
   "cell_type": "code",
   "execution_count": null,
   "id": "5dd20a47",
   "metadata": {},
   "outputs": [],
   "source": [
    "# Convert the result to a Pandas DataFrame\n",
    "result_df = pd.DataFrame(results)\n",
    "# Display the number of rows in the DataFrame\n",
    "print(\"Rows in DataFrame: \", len(result_df))\n",
    "# Display the first 10 rows of the DataFrame\n",
    "result_df.head(10)"
   ]
  }
 ],
 "metadata": {
  "kernelspec": {
   "display_name": "PythonData",
   "language": "python",
   "name": "pythondata"
  },
  "language_info": {
   "codemirror_mode": {
    "name": "ipython",
    "version": 3
   },
   "file_extension": ".py",
   "mimetype": "text/x-python",
   "name": "python",
   "nbconvert_exporter": "python",
   "pygments_lexer": "ipython3",
   "version": "3.7.7"
  }
 },
 "nbformat": 4,
 "nbformat_minor": 5
}
